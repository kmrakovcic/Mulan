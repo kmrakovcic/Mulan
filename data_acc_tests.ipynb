{
 "cells": [
  {
   "cell_type": "code",
   "execution_count": 7,
   "outputs": [
    {
     "name": "stdout",
     "output_type": "stream",
     "text": [
      "The autoreload extension is already loaded. To reload it, use:\n",
      "  %reload_ext autoreload\n"
     ]
    }
   ],
   "source": [
    "import tools\n",
    "import numpy as np\n",
    "import matplotlib.pyplot as plt\n",
    "%load_ext autoreload\n",
    "%autoreload 2"
   ],
   "metadata": {
    "collapsed": false,
    "ExecuteTime": {
     "start_time": "2023-04-20T14:23:42.544714Z",
     "end_time": "2023-04-20T14:23:42.590676Z"
    }
   }
  },
  {
   "cell_type": "code",
   "execution_count": 73,
   "outputs": [],
   "source": [
    "import pandas as pd\n",
    "import numpy as np\n",
    "import analyze\n",
    "df = pd.read_csv('data.csv')"
   ],
   "metadata": {
    "collapsed": false,
    "ExecuteTime": {
     "start_time": "2023-04-20T18:00:33.151924Z",
     "end_time": "2023-04-20T18:00:33.547863Z"
    }
   }
  },
  {
   "cell_type": "code",
   "execution_count": 9,
   "outputs": [],
   "source": [
    "data = np.array(df)"
   ],
   "metadata": {
    "collapsed": false,
    "ExecuteTime": {
     "start_time": "2023-04-20T14:23:43.641813Z",
     "end_time": "2023-04-20T14:23:43.716542Z"
    }
   }
  },
  {
   "cell_type": "code",
   "execution_count": 10,
   "outputs": [],
   "source": [
    "data_smisleno = data[np.logical_and(data<7, data>0.75)]"
   ],
   "metadata": {
    "collapsed": false,
    "ExecuteTime": {
     "start_time": "2023-04-20T14:23:44.322646Z",
     "end_time": "2023-04-20T14:23:44.375272Z"
    }
   }
  },
  {
   "cell_type": "code",
   "execution_count": 13,
   "outputs": [],
   "source": [
    "def log_likelihood(x):\n",
    "    def function(parm):\n",
    "        w = parm[0]\n",
    "        tau = parm[1]\n",
    "        t1=0.75\n",
    "        t2=9\n",
    "        y = w * 1/tau * 1/(np.exp(-t1/tau)-np.exp(-t2/tau)) * np.exp(-x/tau) + (1-w) * 1/(t2-t1)\n",
    "        return -np.sum(np.log(y))\n",
    "    return function\n"
   ],
   "metadata": {
    "collapsed": false,
    "ExecuteTime": {
     "start_time": "2023-04-20T14:32:48.771688Z",
     "end_time": "2023-04-20T14:32:48.824290Z"
    }
   }
  },
  {
   "cell_type": "code",
   "execution_count": 14,
   "outputs": [
    {
     "data": {
      "text/plain": "3358.368118689833"
     },
     "execution_count": 14,
     "metadata": {},
     "output_type": "execute_result"
    }
   ],
   "source": [
    "log_likelihood(data_smisleno)([0.61, 2.041])"
   ],
   "metadata": {
    "collapsed": false,
    "ExecuteTime": {
     "start_time": "2023-04-20T14:32:55.802046Z",
     "end_time": "2023-04-20T14:32:55.811979Z"
    }
   }
  },
  {
   "cell_type": "code",
   "execution_count": 15,
   "outputs": [],
   "source": [
    "def function1(x, w, tau):\n",
    "    t1=0.75\n",
    "    t2=9\n",
    "    y = w * 1/tau * 1/(np.exp(-t1/tau)-np.exp(-t2/tau)) * np.exp(-x/tau) + (1-w) * 1/(t2-t1)\n",
    "    #likelihood = np.sum( stats.norm.logpdf(ydata, loc=yPred, scale=sd ) )\n",
    "    return y"
   ],
   "metadata": {
    "collapsed": false,
    "ExecuteTime": {
     "start_time": "2023-04-20T14:32:56.789416Z",
     "end_time": "2023-04-20T14:32:56.795105Z"
    }
   }
  },
  {
   "cell_type": "code",
   "execution_count": 16,
   "outputs": [
    {
     "data": {
      "text/plain": "<function matplotlib.pyplot.show(close=None, block=None)>"
     },
     "execution_count": 16,
     "metadata": {},
     "output_type": "execute_result"
    },
    {
     "data": {
      "text/plain": "<Figure size 640x480 with 1 Axes>",
      "image/png": "[encoded data removed]"
     },
     "metadata": {},
     "output_type": "display_data"
    }
   ],
   "source": [
    "import scipy\n",
    "data_smisleno = data[np.logical_and(data<9, data>0.75)]\n",
    "popt = scipy.optimize.minimize(log_likelihood(data_smisleno), [0.2,2.2], bounds=[(0,1), (1, 3)])\n",
    "hessinv_matrix = np.asmatrix(popt.hess_inv.todense())\n",
    "[w, tau] = popt.x\n",
    "[w_err, tau_err] = np.sqrt(np.diagonal(hessinv_matrix))\n",
    "counts, bins = np.histogram(data_smisleno, bins=20)\n",
    "counts= (counts / data_smisleno.size) / (bins[1]-bins[0])\n",
    "data_smisleno.sort()\n",
    "plt.plot(data_smisleno, function1(data_smisleno, popt.x[0], popt.x[1]), color=\"r\")\n",
    "plt.bar(bins[:-1], counts)\n",
    "plt.show"
   ],
   "metadata": {
    "collapsed": false,
    "ExecuteTime": {
     "start_time": "2023-04-20T14:33:05.763173Z",
     "end_time": "2023-04-20T14:33:06.362761Z"
    }
   }
  },
  {
   "cell_type": "code",
   "execution_count": 17,
   "outputs": [],
   "source": [
    "likelihood = log_likelihood(data_smisleno)"
   ],
   "metadata": {
    "collapsed": false,
    "ExecuteTime": {
     "start_time": "2023-04-20T14:33:14.503256Z",
     "end_time": "2023-04-20T14:33:14.540747Z"
    }
   }
  },
  {
   "cell_type": "code",
   "execution_count": 138,
   "outputs": [],
   "source": [
    "def estimate_standard_deviation1(data, params):\n",
    "    likelihood = log_likelihood(data)\n",
    "    init_like = likelihood(params)\n",
    "    p_err = np.zeros(len(params))\n",
    "    for i,parameter in enumerate(params):\n",
    "        p_like = 0\n",
    "        while (p_like - init_like) <= 0.5:\n",
    "            p_err[i] += 0.0001\n",
    "            new_params = np.zeros(len(params))\n",
    "            new_params[i] = p_err[i]\n",
    "            new_params = new_params + params\n",
    "            p_like = likelihood(new_params)\n",
    "    return p_err\n",
    "\n",
    "def estimate_standard_deviation(data, params, lower_cutoff=0.75, higher_cutoff=9):\n",
    "    likelihood = analyze.neg_log_likelihood(data, lower_cutoff, higher_cutoff)\n",
    "    init_like = likelihood(params)\n",
    "    p_err = np.zeros(len(params))\n",
    "    for i,parameter in enumerate(params):\n",
    "        for k in range(-1, 5):\n",
    "            continue_l = True\n",
    "            while continue_l:\n",
    "                new_params = np.zeros(len(params))\n",
    "                new_params[i] = p_err[i] + 10 ** (-k)\n",
    "                new_params = new_params + params\n",
    "                p_like = likelihood(new_params)\n",
    "                print (p_like - init_like)\n",
    "                if (p_like - init_like) >= 0.5 or np.isnan(p_like - init_like):\n",
    "                    continue_l = False\n",
    "                else:\n",
    "                    p_err[i] += 10 ** (-k)\n",
    "    return p_err"
   ],
   "metadata": {
    "collapsed": false,
    "ExecuteTime": {
     "start_time": "2023-04-20T18:21:52.669357Z",
     "end_time": "2023-04-20T18:21:52.716543Z"
    }
   }
  },
  {
   "cell_type": "code",
   "execution_count": 139,
   "outputs": [
    {
     "name": "stdout",
     "output_type": "stream",
     "text": [
      "nan\n",
      "nan\n",
      "11.540855242877115\n",
      "0.10897418350577937\n",
      "0.43829673162963445\n",
      "0.9917906120326734\n",
      "0.48349250418368683\n",
      "0.5309337158569178\n",
      "0.4881355142738357\n",
      "0.49280098274766715\n",
      "0.4974889136274214\n",
      "0.5021993109421601\n",
      "259.0807653791053\n",
      "31.418739692257986\n",
      "0.5295101515130227\n",
      "0.005617910990622477\n",
      "0.02232044002676048\n",
      "0.049888327986082004\n",
      "0.08810638590921371\n",
      "0.13676341237578526\n",
      "0.1956521128663553\n",
      "0.2645690210661087\n",
      "0.3433144220571194\n",
      "0.4316922773182341\n",
      "0.5295101515130227\n",
      "0.44105240824364955\n",
      "0.4505067459690508\n",
      "0.46005510037139175\n",
      "0.4696972816800553\n",
      "0.4794331004754895\n",
      "0.48926236768602394\n",
      "0.4991848945928723\n",
      "0.5092004928228562\n",
      "0.5001822693106988\n",
      "0.097 0.0213\n"
     ]
    },
    {
     "name": "stderr",
     "output_type": "stream",
     "text": [
      "/mnt/storage/Projects/Mulan/analyze.py:12: RuntimeWarning: invalid value encountered in log\n",
      "  return -np.sum(np.log(y))\n"
     ]
    }
   ],
   "source": [
    "[w_err, tau_err] = estimate_standard_deviation(data_smisleno, [w, tau])\n",
    "print (tau_err, w_err)"
   ],
   "metadata": {
    "collapsed": false,
    "ExecuteTime": {
     "start_time": "2023-04-20T18:21:54.334038Z",
     "end_time": "2023-04-20T18:21:54.346132Z"
    }
   }
  },
  {
   "cell_type": "code",
   "execution_count": 69,
   "outputs": [],
   "source": [
    "def quadratic (x, tau, tau_err):\n",
    "    return 0.5*(1/(tau_err))**2*(x-tau)**2+likelihood([w, tau])"
   ],
   "metadata": {
    "collapsed": false,
    "ExecuteTime": {
     "start_time": "2023-04-20T15:53:44.514180Z",
     "end_time": "2023-04-20T15:53:44.561021Z"
    }
   }
  },
  {
   "cell_type": "code",
   "execution_count": 70,
   "outputs": [
    {
     "data": {
      "text/plain": "[<matplotlib.lines.Line2D at 0x7f29d1d88d60>]"
     },
     "execution_count": 70,
     "metadata": {},
     "output_type": "execute_result"
    },
    {
     "data": {
      "text/plain": "<Figure size 640x480 with 1 Axes>",
      "image/png": "[encoded data removed]"
     },
     "metadata": {},
     "output_type": "display_data"
    }
   ],
   "source": [
    "x = np.linspace(1.7, 2.3, 100)\n",
    "y = np.array([likelihood([w, i]) for i in x])\n",
    "plt.plot (x,y)\n",
    "plt.plot (x, quadratic(x, tau, tau_err))\n",
    "#plt.vlines(x=tau, ymin=0, ymax=1000)"
   ],
   "metadata": {
    "collapsed": false,
    "ExecuteTime": {
     "start_time": "2023-04-20T15:53:46.734887Z",
     "end_time": "2023-04-20T15:53:46.924667Z"
    }
   }
  },
  {
   "cell_type": "code",
   "execution_count": 71,
   "outputs": [
    {
     "name": "stdout",
     "output_type": "stream",
     "text": [
      "1.9458351437132864 0.09710000000000175\n"
     ]
    }
   ],
   "source": [
    "print(tau, tau_err)"
   ],
   "metadata": {
    "collapsed": false,
    "ExecuteTime": {
     "start_time": "2023-04-20T15:54:09.055112Z",
     "end_time": "2023-04-20T15:54:09.108464Z"
    }
   }
  },
  {
   "cell_type": "code",
   "execution_count": 37,
   "outputs": [
    {
     "data": {
      "text/plain": "0.09643429768736907"
     },
     "execution_count": 37,
     "metadata": {},
     "output_type": "execute_result"
    }
   ],
   "source": [
    "0.3*tau_err"
   ],
   "metadata": {
    "collapsed": false,
    "ExecuteTime": {
     "start_time": "2023-04-20T11:54:48.396390Z",
     "end_time": "2023-04-20T11:54:48.441649Z"
    }
   }
  },
  {
   "cell_type": "code",
   "execution_count": 72,
   "outputs": [
    {
     "data": {
      "text/plain": "0.5001822693116083"
     },
     "execution_count": 72,
     "metadata": {},
     "output_type": "execute_result"
    }
   ],
   "source": [
    "likelihood([w, tau+tau_err])-likelihood([w, tau])"
   ],
   "metadata": {
    "collapsed": false,
    "ExecuteTime": {
     "start_time": "2023-04-20T15:54:32.375938Z",
     "end_time": "2023-04-20T15:54:32.420615Z"
    }
   }
  },
  {
   "cell_type": "code",
   "execution_count": 6,
   "outputs": [
    {
     "data": {
      "text/plain": "<matplotlib.collections.LineCollection at 0x7fec530ae770>"
     },
     "execution_count": 6,
     "metadata": {},
     "output_type": "execute_result"
    },
    {
     "data": {
      "text/plain": "<Figure size 640x480 with 1 Axes>",
      "image/png": "[encoded data removed]"
     },
     "metadata": {},
     "output_type": "display_data"
    }
   ],
   "source": [
    "import scipy\n",
    "from matplotlib import pyplot as plt\n",
    "import numpy as np\n",
    "\n",
    "mu = 2.2\n",
    "sigma = 0.3\n",
    "x = np.linspace(mu-3*sigma, mu+3*sigma, 100)\n",
    "plt.plot (x, scipy.stats.norm.pdf(x, mu, sigma))\n",
    "plt.vlines(mu, 0, scipy.stats.norm.pdf(mu, mu, sigma))\n",
    "plt.vlines(mu+sigma, 0, scipy.stats.norm.pdf(mu+sigma, mu, sigma))\n",
    "plt.vlines(mu-sigma, 0, scipy.stats.norm.pdf(mu-sigma, mu, sigma))"
   ],
   "metadata": {
    "collapsed": false,
    "ExecuteTime": {
     "start_time": "2023-04-19T14:39:36.946067Z",
     "end_time": "2023-04-19T14:39:37.198514Z"
    }
   }
  },
  {
   "cell_type": "code",
   "execution_count": 3,
   "outputs": [
    {
     "data": {
      "text/plain": "1.329807601338109"
     },
     "execution_count": 3,
     "metadata": {},
     "output_type": "execute_result"
    }
   ],
   "source": [
    "scipy.stats.norm.pdf(mu, mu, sigma)"
   ],
   "metadata": {
    "collapsed": false,
    "ExecuteTime": {
     "start_time": "2023-04-19T14:37:54.594845Z",
     "end_time": "2023-04-19T14:37:54.628654Z"
    }
   }
  },
  {
   "cell_type": "code",
   "execution_count": 38,
   "outputs": [
    {
     "data": {
      "text/plain": "matrix([[0.01460035, 0.03666506],\n        [0.03666506, 0.1033286 ]])"
     },
     "execution_count": 38,
     "metadata": {},
     "output_type": "execute_result"
    }
   ],
   "source": [
    "hessinv_matrix"
   ],
   "metadata": {
    "collapsed": false,
    "ExecuteTime": {
     "start_time": "2023-04-20T11:56:57.100639Z",
     "end_time": "2023-04-20T11:56:57.144829Z"
    }
   }
  },
  {
   "cell_type": "code",
   "execution_count": 39,
   "outputs": [
    {
     "data": {
      "text/plain": "array([0.12083192, 0.32144766])"
     },
     "execution_count": 39,
     "metadata": {},
     "output_type": "execute_result"
    }
   ],
   "source": [
    "np.sqrt(np.diagonal(hessinv_matrix))"
   ],
   "metadata": {
    "collapsed": false,
    "ExecuteTime": {
     "start_time": "2023-04-20T11:57:33.065064Z",
     "end_time": "2023-04-20T11:57:33.108970Z"
    }
   }
  },
  {
   "cell_type": "code",
   "execution_count": null,
   "outputs": [],
   "source": [],
   "metadata": {
    "collapsed": false
   }
  }
 ],
 "metadata": {
  "kernelspec": {
   "display_name": "Python 3",
   "language": "python",
   "name": "python3"
  },
  "language_info": {
   "codemirror_mode": {
    "name": "ipython",
    "version": 2
   },
   "file_extension": ".py",
   "mimetype": "text/x-python",
   "name": "python",
   "nbconvert_exporter": "python",
   "pygments_lexer": "ipython2",
   "version": "2.7.6"
  }
 },
 "nbformat": 4,
 "nbformat_minor": 0
}
