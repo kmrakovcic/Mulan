{
 "cells": [
  {
   "cell_type": "code",
   "execution_count": 34,
   "outputs": [
    {
     "name": "stdout",
     "output_type": "stream",
     "text": [
      "The autoreload extension is already loaded. To reload it, use:\n",
      "  %reload_ext autoreload\n"
     ]
    }
   ],
   "source": [
    "import tools\n",
    "import numpy as np\n",
    "import matplotlib.pyplot as plt\n",
    "%load_ext autoreload\n",
    "%autoreload 2"
   ],
   "metadata": {
    "collapsed": false
   }
  },
  {
   "cell_type": "code",
   "execution_count": 2,
   "outputs": [],
   "source": [
    "ser = tools.interface.open_serial_port()"
   ],
   "metadata": {
    "collapsed": false
   }
  },
  {
   "cell_type": "code",
   "execution_count": null,
   "outputs": [],
   "source": [
    "counts = np.zeros(10)\n",
    "bins = np.linspace(0, 20000, 11)\n",
    "for i in range(1000):\n",
    "    data = tools.interface.read_serial_port(ser) * 0.001\n",
    "    hist, bins = np.histogram(data, bins=bins)\n",
    "    counts = counts + hist\n",
    "    if i % 50 == 0:\n",
    "        plt.bar(bins[:-1], counts, width=1000)\n",
    "        plt.show()"
   ],
   "metadata": {
    "collapsed": false,
    "pycharm": {
     "is_executing": true
    }
   }
  },
  {
   "cell_type": "code",
   "execution_count": 7,
   "outputs": [
    {
     "ename": "KeyboardInterrupt",
     "evalue": "",
     "output_type": "error",
     "traceback": [
      "\u001B[0;31m---------------------------------------------------------------------------\u001B[0m",
      "\u001B[0;31mKeyboardInterrupt\u001B[0m                         Traceback (most recent call last)",
      "Cell \u001B[0;32mIn[7], line 2\u001B[0m\n\u001B[1;32m      1\u001B[0m ser \u001B[38;5;241m=\u001B[39m tools\u001B[38;5;241m.\u001B[39minterface\u001B[38;5;241m.\u001B[39mopen_serial_port()\n\u001B[0;32m----> 2\u001B[0m \u001B[43mtools\u001B[49m\u001B[38;5;241;43m.\u001B[39;49m\u001B[43minterface\u001B[49m\u001B[38;5;241;43m.\u001B[39;49m\u001B[43mwrite_port_data_to_csv\u001B[49m\u001B[43m(\u001B[49m\u001B[43mser\u001B[49m\u001B[43m,\u001B[49m\u001B[43m \u001B[49m\u001B[38;5;124;43m'\u001B[39;49m\u001B[38;5;124;43mtest.csv\u001B[39;49m\u001B[38;5;124;43m'\u001B[39;49m\u001B[43m)\u001B[49m\n",
      "File \u001B[0;32m/mnt/storage/Projects/Mulan/tools/interface.py:54\u001B[0m, in \u001B[0;36mwrite_port_data_to_csv\u001B[0;34m(ser, filename)\u001B[0m\n\u001B[1;32m     52\u001B[0m     \u001B[38;5;28;01mpass\u001B[39;00m\n\u001B[1;32m     53\u001B[0m \u001B[38;5;28;01mwhile\u001B[39;00m \u001B[38;5;28;01mTrue\u001B[39;00m:\n\u001B[0;32m---> 54\u001B[0m     data \u001B[38;5;241m=\u001B[39m \u001B[43mread_serial_port\u001B[49m\u001B[43m(\u001B[49m\u001B[43mser\u001B[49m\u001B[43m)\u001B[49m\n\u001B[1;32m     55\u001B[0m     \u001B[38;5;28;01mwith\u001B[39;00m \u001B[38;5;28mopen\u001B[39m(filename, \u001B[38;5;124m'\u001B[39m\u001B[38;5;124ma\u001B[39m\u001B[38;5;124m'\u001B[39m) \u001B[38;5;28;01mas\u001B[39;00m f:\n\u001B[1;32m     56\u001B[0m         \u001B[38;5;28;01mfor\u001B[39;00m i \u001B[38;5;129;01min\u001B[39;00m data:\n",
      "File \u001B[0;32m/mnt/storage/Projects/Mulan/tools/interface.py:35\u001B[0m, in \u001B[0;36mread_serial_port\u001B[0;34m(ser)\u001B[0m\n\u001B[1;32m     33\u001B[0m read \u001B[38;5;241m=\u001B[39m \u001B[38;5;28;01mFalse\u001B[39;00m\n\u001B[1;32m     34\u001B[0m \u001B[38;5;28;01mwhile\u001B[39;00m \u001B[38;5;129;01mnot\u001B[39;00m read:\n\u001B[0;32m---> 35\u001B[0m     signal \u001B[38;5;241m=\u001B[39m \u001B[43mser\u001B[49m\u001B[38;5;241;43m.\u001B[39;49m\u001B[43mread\u001B[49m\u001B[43m(\u001B[49m\u001B[38;5;241;43m100\u001B[39;49m\u001B[43m)\u001B[49m\n\u001B[1;32m     36\u001B[0m     signal \u001B[38;5;241m+\u001B[39m\u001B[38;5;241m=\u001B[39m ser\u001B[38;5;241m.\u001B[39mread(ser\u001B[38;5;241m.\u001B[39minWaiting())\n\u001B[1;32m     37\u001B[0m     timestamps \u001B[38;5;241m=\u001B[39m np\u001B[38;5;241m.\u001B[39marray(signal\u001B[38;5;241m.\u001B[39mdecode(\u001B[38;5;124m\"\u001B[39m\u001B[38;5;124mascii\u001B[39m\u001B[38;5;124m\"\u001B[39m)\u001B[38;5;241m.\u001B[39msplit(\u001B[38;5;124m\"\u001B[39m\u001B[38;5;130;01m\\r\u001B[39;00m\u001B[38;5;124m\"\u001B[39m)[:\u001B[38;5;241m-\u001B[39m\u001B[38;5;241m1\u001B[39m])\n",
      "File \u001B[0;32m~/miniconda3/envs/Mulan/lib/python3.10/site-packages/serial/serialposix.py:565\u001B[0m, in \u001B[0;36mSerial.read\u001B[0;34m(self, size)\u001B[0m\n\u001B[1;32m    563\u001B[0m \u001B[38;5;28;01mwhile\u001B[39;00m \u001B[38;5;28mlen\u001B[39m(read) \u001B[38;5;241m<\u001B[39m size:\n\u001B[1;32m    564\u001B[0m     \u001B[38;5;28;01mtry\u001B[39;00m:\n\u001B[0;32m--> 565\u001B[0m         ready, _, _ \u001B[38;5;241m=\u001B[39m \u001B[43mselect\u001B[49m\u001B[38;5;241;43m.\u001B[39;49m\u001B[43mselect\u001B[49m\u001B[43m(\u001B[49m\u001B[43m[\u001B[49m\u001B[38;5;28;43mself\u001B[39;49m\u001B[38;5;241;43m.\u001B[39;49m\u001B[43mfd\u001B[49m\u001B[43m,\u001B[49m\u001B[43m \u001B[49m\u001B[38;5;28;43mself\u001B[39;49m\u001B[38;5;241;43m.\u001B[39;49m\u001B[43mpipe_abort_read_r\u001B[49m\u001B[43m]\u001B[49m\u001B[43m,\u001B[49m\u001B[43m \u001B[49m\u001B[43m[\u001B[49m\u001B[43m]\u001B[49m\u001B[43m,\u001B[49m\u001B[43m \u001B[49m\u001B[43m[\u001B[49m\u001B[43m]\u001B[49m\u001B[43m,\u001B[49m\u001B[43m \u001B[49m\u001B[43mtimeout\u001B[49m\u001B[38;5;241;43m.\u001B[39;49m\u001B[43mtime_left\u001B[49m\u001B[43m(\u001B[49m\u001B[43m)\u001B[49m\u001B[43m)\u001B[49m\n\u001B[1;32m    566\u001B[0m         \u001B[38;5;28;01mif\u001B[39;00m \u001B[38;5;28mself\u001B[39m\u001B[38;5;241m.\u001B[39mpipe_abort_read_r \u001B[38;5;129;01min\u001B[39;00m ready:\n\u001B[1;32m    567\u001B[0m             os\u001B[38;5;241m.\u001B[39mread(\u001B[38;5;28mself\u001B[39m\u001B[38;5;241m.\u001B[39mpipe_abort_read_r, \u001B[38;5;241m1000\u001B[39m)\n",
      "\u001B[0;31mKeyboardInterrupt\u001B[0m: "
     ]
    }
   ],
   "source": [
    "ser = tools.interface.open_serial_port()\n",
    "tools.interface.write_port_data_to_csv(ser, 'test.csv')"
   ],
   "metadata": {
    "collapsed": false
   }
  },
  {
   "cell_type": "code",
   "execution_count": 115,
   "outputs": [
    {
     "name": "stdout",
     "output_type": "stream",
     "text": [
      "0\n",
      "0\n",
      "0\n",
      "0\n",
      "0\n",
      "0\n",
      "0\n",
      "0\n",
      "0\n",
      "0\n",
      "0\n",
      "0\n",
      "0\n",
      "0\n",
      "0\n",
      "0\n",
      "0\n",
      "0\n",
      "0\n",
      "0\n",
      "0\n",
      "0\n",
      "0\n",
      "0\n",
      "0\n",
      "0\n",
      "0\n",
      "0\n",
      "0\n",
      "0\n",
      "0\n",
      "0\n",
      "0\n",
      "0\n",
      "0\n",
      "0\n",
      "0\n",
      "0\n",
      "0\n",
      "0\n",
      "0\n",
      "0\n",
      "0\n",
      "0\n",
      "0\n",
      "0\n",
      "0\n",
      "1.875\n",
      "1.875\n",
      "1.875\n",
      "1.875\n",
      "1.875\n",
      "1.875\n",
      "1.875\n",
      "1.875\n",
      "1.875\n",
      "1.875\n",
      "1.875\n",
      "1.875\n",
      "1.875\n",
      "1.875\n",
      "1.875\n",
      "1.875\n",
      "1.875\n",
      "1.875\n",
      "1.875\n",
      "1.875\n",
      "1.875\n",
      "1.875\n",
      "1.875\n",
      "1.875\n",
      "1.875\n",
      "1.875\n",
      "1.875\n",
      "1.875\n",
      "1.875\n",
      "1.875\n",
      "1.875\n",
      "1.875\n",
      "1.875\n",
      "1.875\n",
      "1.875\n",
      "1.875\n",
      "1.875\n",
      "1.875\n",
      "1.875\n",
      "1.875\n",
      "1.875\n",
      "1.875\n",
      "1.875\n",
      "1.875\n",
      "1.875\n",
      "1.875\n",
      "1.875\n",
      "1.875\n",
      "1.875\n",
      "1.875\n",
      "1.875\n",
      "1.875\n",
      "1.875\n",
      "1.875\n",
      "1.875\n",
      "1.875\n",
      "1.875\n",
      "1.875\n",
      "1.875\n",
      "1.875\n",
      "1.875\n",
      "1.875\n",
      "1.875\n",
      "1.875\n",
      "1.875\n",
      "1.875\n",
      "1.875\n",
      "1.875\n",
      "1.875\n",
      "1.875\n",
      "1.875\n",
      "1.875\n",
      "1.875\n",
      "1.875\n",
      "1.875\n",
      "1.875\n",
      "1.875\n",
      "1.875\n",
      "1.875\n",
      "1.875\n",
      "1.875\n",
      "1.875\n",
      "1.875\n",
      "1.875\n",
      "1.875\n",
      "1.875\n",
      "1.875\n",
      "1.875\n",
      "1.875\n",
      "1.875\n",
      "1.875\n",
      "1.875\n",
      "1.875\n",
      "1.875\n",
      "1.875\n",
      "1.875\n",
      "1.875\n",
      "1.875\n",
      "1.875\n",
      "1.875\n",
      "1.875\n",
      "1.875\n",
      "1.875\n",
      "1.875\n",
      "1.875\n",
      "1.875\n",
      "1.875\n",
      "1.875\n",
      "1.875\n",
      "1.875\n",
      "1.875\n",
      "1.875\n",
      "1.875\n",
      "1.875\n",
      "4.954166666666667\n",
      "4.954166666666667\n",
      "4.954166666666667\n",
      "4.954166666666667\n",
      "4.954166666666667\n",
      "4.954166666666667\n",
      "4.954166666666667\n",
      "4.954166666666667\n",
      "4.954166666666667\n",
      "4.954166666666667\n",
      "4.954166666666667\n",
      "4.954166666666667\n",
      "4.954166666666667\n",
      "4.954166666666667\n",
      "4.954166666666667\n",
      "4.954166666666667\n",
      "4.954166666666667\n",
      "4.954166666666667\n",
      "4.954166666666667\n",
      "4.954166666666667\n",
      "4.954166666666667\n",
      "4.954166666666667\n",
      "4.954166666666667\n",
      "4.954166666666667\n",
      "4.954166666666667\n",
      "4.954166666666667\n"
     ]
    },
    {
     "name": "stderr",
     "output_type": "stream",
     "text": [
      "Process Read serial:\n",
      "Process Read serial:\n",
      "Traceback (most recent call last):\n",
      "Traceback (most recent call last):\n",
      "  File \"/home/karlo/miniconda3/envs/Mulan/lib/python3.10/multiprocessing/process.py\", line 314, in _bootstrap\n",
      "    self.run()\n",
      "  File \"/home/karlo/miniconda3/envs/Mulan/lib/python3.10/multiprocessing/process.py\", line 108, in run\n",
      "    self._target(*self._args, **self._kwargs)\n",
      "  File \"/home/karlo/miniconda3/envs/Mulan/lib/python3.10/multiprocessing/process.py\", line 314, in _bootstrap\n",
      "    self.run()\n",
      "  File \"/tmp/ipykernel_4056/855872326.py\", line 13, in g\n",
      "    time.sleep(1)\n",
      "  File \"/home/karlo/miniconda3/envs/Mulan/lib/python3.10/multiprocessing/process.py\", line 108, in run\n",
      "    self._target(*self._args, **self._kwargs)\n",
      "  File \"/tmp/ipykernel_4056/855872326.py\", line 8, in count\n",
      "    data = tools.interface.read_serial_port(ser)\n",
      "KeyboardInterrupt\n",
      "  File \"/mnt/storage/Projects/Mulan/tools/interface.py\", line 34, in read_serial_port\n",
      "    signal = ser.read(1)\n",
      "  File \"/home/karlo/miniconda3/envs/Mulan/lib/python3.10/site-packages/serial/serialposix.py\", line 565, in read\n",
      "    ready, _, _ = select.select([self.fd, self.pipe_abort_read_r], [], [], timeout.time_left())\n",
      "KeyboardInterrupt\n"
     ]
    },
    {
     "ename": "KeyboardInterrupt",
     "evalue": "",
     "output_type": "error",
     "traceback": [
      "\u001B[0;31m---------------------------------------------------------------------------\u001B[0m",
      "\u001B[0;31mKeyboardInterrupt\u001B[0m                         Traceback (most recent call last)",
      "Cell \u001B[0;32mIn[115], line 27\u001B[0m\n\u001B[1;32m     25\u001B[0m p1\u001B[38;5;241m.\u001B[39mstart()\n\u001B[1;32m     26\u001B[0m p2\u001B[38;5;241m.\u001B[39mstart()\n\u001B[0;32m---> 27\u001B[0m \u001B[43mp1\u001B[49m\u001B[38;5;241;43m.\u001B[39;49m\u001B[43mjoin\u001B[49m\u001B[43m(\u001B[49m\u001B[43m)\u001B[49m\n\u001B[1;32m     28\u001B[0m p2\u001B[38;5;241m.\u001B[39mjoin()\n",
      "File \u001B[0;32m~/miniconda3/envs/Mulan/lib/python3.10/multiprocessing/process.py:149\u001B[0m, in \u001B[0;36mBaseProcess.join\u001B[0;34m(self, timeout)\u001B[0m\n\u001B[1;32m    147\u001B[0m \u001B[38;5;28;01massert\u001B[39;00m \u001B[38;5;28mself\u001B[39m\u001B[38;5;241m.\u001B[39m_parent_pid \u001B[38;5;241m==\u001B[39m os\u001B[38;5;241m.\u001B[39mgetpid(), \u001B[38;5;124m'\u001B[39m\u001B[38;5;124mcan only join a child process\u001B[39m\u001B[38;5;124m'\u001B[39m\n\u001B[1;32m    148\u001B[0m \u001B[38;5;28;01massert\u001B[39;00m \u001B[38;5;28mself\u001B[39m\u001B[38;5;241m.\u001B[39m_popen \u001B[38;5;129;01mis\u001B[39;00m \u001B[38;5;129;01mnot\u001B[39;00m \u001B[38;5;28;01mNone\u001B[39;00m, \u001B[38;5;124m'\u001B[39m\u001B[38;5;124mcan only join a started process\u001B[39m\u001B[38;5;124m'\u001B[39m\n\u001B[0;32m--> 149\u001B[0m res \u001B[38;5;241m=\u001B[39m \u001B[38;5;28;43mself\u001B[39;49m\u001B[38;5;241;43m.\u001B[39;49m\u001B[43m_popen\u001B[49m\u001B[38;5;241;43m.\u001B[39;49m\u001B[43mwait\u001B[49m\u001B[43m(\u001B[49m\u001B[43mtimeout\u001B[49m\u001B[43m)\u001B[49m\n\u001B[1;32m    150\u001B[0m \u001B[38;5;28;01mif\u001B[39;00m res \u001B[38;5;129;01mis\u001B[39;00m \u001B[38;5;129;01mnot\u001B[39;00m \u001B[38;5;28;01mNone\u001B[39;00m:\n\u001B[1;32m    151\u001B[0m     _children\u001B[38;5;241m.\u001B[39mdiscard(\u001B[38;5;28mself\u001B[39m)\n",
      "File \u001B[0;32m~/miniconda3/envs/Mulan/lib/python3.10/multiprocessing/popen_fork.py:43\u001B[0m, in \u001B[0;36mPopen.wait\u001B[0;34m(self, timeout)\u001B[0m\n\u001B[1;32m     41\u001B[0m             \u001B[38;5;28;01mreturn\u001B[39;00m \u001B[38;5;28;01mNone\u001B[39;00m\n\u001B[1;32m     42\u001B[0m     \u001B[38;5;66;03m# This shouldn't block if wait() returned successfully.\u001B[39;00m\n\u001B[0;32m---> 43\u001B[0m     \u001B[38;5;28;01mreturn\u001B[39;00m \u001B[38;5;28;43mself\u001B[39;49m\u001B[38;5;241;43m.\u001B[39;49m\u001B[43mpoll\u001B[49m\u001B[43m(\u001B[49m\u001B[43mos\u001B[49m\u001B[38;5;241;43m.\u001B[39;49m\u001B[43mWNOHANG\u001B[49m\u001B[43m \u001B[49m\u001B[38;5;28;43;01mif\u001B[39;49;00m\u001B[43m \u001B[49m\u001B[43mtimeout\u001B[49m\u001B[43m \u001B[49m\u001B[38;5;241;43m==\u001B[39;49m\u001B[43m \u001B[49m\u001B[38;5;241;43m0.0\u001B[39;49m\u001B[43m \u001B[49m\u001B[38;5;28;43;01melse\u001B[39;49;00m\u001B[43m \u001B[49m\u001B[38;5;241;43m0\u001B[39;49m\u001B[43m)\u001B[49m\n\u001B[1;32m     44\u001B[0m \u001B[38;5;28;01mreturn\u001B[39;00m \u001B[38;5;28mself\u001B[39m\u001B[38;5;241m.\u001B[39mreturncode\n",
      "File \u001B[0;32m~/miniconda3/envs/Mulan/lib/python3.10/multiprocessing/popen_fork.py:27\u001B[0m, in \u001B[0;36mPopen.poll\u001B[0;34m(self, flag)\u001B[0m\n\u001B[1;32m     25\u001B[0m \u001B[38;5;28;01mif\u001B[39;00m \u001B[38;5;28mself\u001B[39m\u001B[38;5;241m.\u001B[39mreturncode \u001B[38;5;129;01mis\u001B[39;00m \u001B[38;5;28;01mNone\u001B[39;00m:\n\u001B[1;32m     26\u001B[0m     \u001B[38;5;28;01mtry\u001B[39;00m:\n\u001B[0;32m---> 27\u001B[0m         pid, sts \u001B[38;5;241m=\u001B[39m \u001B[43mos\u001B[49m\u001B[38;5;241;43m.\u001B[39;49m\u001B[43mwaitpid\u001B[49m\u001B[43m(\u001B[49m\u001B[38;5;28;43mself\u001B[39;49m\u001B[38;5;241;43m.\u001B[39;49m\u001B[43mpid\u001B[49m\u001B[43m,\u001B[49m\u001B[43m \u001B[49m\u001B[43mflag\u001B[49m\u001B[43m)\u001B[49m\n\u001B[1;32m     28\u001B[0m     \u001B[38;5;28;01mexcept\u001B[39;00m \u001B[38;5;167;01mOSError\u001B[39;00m:\n\u001B[1;32m     29\u001B[0m         \u001B[38;5;66;03m# Child process not yet created. See #1731717\u001B[39;00m\n\u001B[1;32m     30\u001B[0m         \u001B[38;5;66;03m# e.errno == errno.ECHILD == 10\u001B[39;00m\n\u001B[1;32m     31\u001B[0m         \u001B[38;5;28;01mreturn\u001B[39;00m \u001B[38;5;28;01mNone\u001B[39;00m\n",
      "\u001B[0;31mKeyboardInterrupt\u001B[0m: "
     ]
    }
   ],
   "source": [
    "import multiprocessing\n",
    "import time\n",
    "\n",
    "def count(ser, shared_list):\n",
    "    signal = ser.read(1)\n",
    "    signal += ser.read(ser.inWaiting())\n",
    "    while True:\n",
    "        data = tools.interface.read_serial_port(ser)\n",
    "        shared_list += data[data<=10].tolist()\n",
    "\n",
    "def g(shared_list):\n",
    "    while True:\n",
    "        time.sleep(1)\n",
    "        if len(shared_list) > 0:\n",
    "            mean = np.array(shared_list).mean()\n",
    "        else:\n",
    "            mean = 0\n",
    "        print(mean)\n",
    "\n",
    "manager = multiprocessing.Manager()\n",
    "shared_list = manager.list()\n",
    "serial = tools.interface.open_serial_port()\n",
    "p1 = multiprocessing.Process(name=\"Read serial\", target=count, args=[serial, shared_list])\n",
    "p2 = multiprocessing.Process(name=\"Read serial\", target=g, args=[shared_list])\n",
    "p1.start()\n",
    "p2.start()\n",
    "p1.join()\n",
    "p2.join()"
   ],
   "metadata": {
    "collapsed": false
   }
  },
  {
   "cell_type": "code",
   "execution_count": 97,
   "outputs": [],
   "source": [
    "data = tools.interface.read_serial_port(ser)"
   ],
   "metadata": {
    "collapsed": false
   }
  },
  {
   "cell_type": "code",
   "execution_count": 98,
   "outputs": [
    {
     "data": {
      "text/plain": "array([12383.75  , 11772.0625, 89058.075 , 28725.4125, 17833.225 ,\n       13074.5875, 35037.95  ,  3862.8875])"
     },
     "execution_count": 98,
     "metadata": {},
     "output_type": "execute_result"
    }
   ],
   "source": [
    "data"
   ],
   "metadata": {
    "collapsed": false
   }
  },
  {
   "cell_type": "code",
   "execution_count": 105,
   "outputs": [
    {
     "data": {
      "text/plain": "array([12383.75  , 11772.0625, 17833.225 , 13074.5875])"
     },
     "execution_count": 105,
     "metadata": {},
     "output_type": "execute_result"
    }
   ],
   "source": [
    "data[np.logical_and(data>10000, data<20000)]"
   ],
   "metadata": {
    "collapsed": false
   }
  },
  {
   "cell_type": "code",
   "execution_count": 104,
   "outputs": [
    {
     "data": {
      "text/plain": "array([ True,  True, False, False,  True,  True, False, False])"
     },
     "execution_count": 104,
     "metadata": {},
     "output_type": "execute_result"
    }
   ],
   "source": [
    "np.logical_and(data>10000, data<20000)"
   ],
   "metadata": {
    "collapsed": false
   }
  },
  {
   "cell_type": "code",
   "execution_count": 45,
   "outputs": [],
   "source": [
    "import pandas as pd\n",
    "import numpy as np\n",
    "df = pd.read_csv('test_data.csv')"
   ],
   "metadata": {
    "collapsed": false,
    "ExecuteTime": {
     "start_time": "2023-04-03T12:41:24.598523Z",
     "end_time": "2023-04-03T12:41:25.014997Z"
    }
   }
  },
  {
   "cell_type": "code",
   "execution_count": 46,
   "outputs": [],
   "source": [
    "data = np.array(df)"
   ],
   "metadata": {
    "collapsed": false,
    "ExecuteTime": {
     "start_time": "2023-04-03T12:41:25.011806Z",
     "end_time": "2023-04-03T12:41:25.063919Z"
    }
   }
  },
  {
   "cell_type": "code",
   "execution_count": 47,
   "outputs": [],
   "source": [
    "data_smisleno = data[np.logical_and(data<10, data>0.5)]"
   ],
   "metadata": {
    "collapsed": false,
    "ExecuteTime": {
     "start_time": "2023-04-03T12:41:25.417782Z",
     "end_time": "2023-04-03T12:41:25.467138Z"
    }
   }
  },
  {
   "cell_type": "code",
   "execution_count": 48,
   "outputs": [
    {
     "data": {
      "text/plain": "(array([113., 105., 101.,  89.,  98.,  81., 102.,  66.,  79.,  79.]),\n array([0.5125 , 0.66125, 0.81   , 0.95875, 1.1075 , 1.25625, 1.405  ,\n        1.55375, 1.7025 , 1.85125, 2.     ]),\n <BarContainer object of 10 artists>)"
     },
     "execution_count": 48,
     "metadata": {},
     "output_type": "execute_result"
    },
    {
     "data": {
      "text/plain": "<Figure size 640x480 with 1 Axes>",
      "image/png": "[encoded data removed]"
     },
     "metadata": {},
     "output_type": "display_data"
    }
   ],
   "source": [
    "from matplotlib import pyplot as plt\n",
    "plt.hist(data_smisleno[data_smisleno<=2], bins=10)"
   ],
   "metadata": {
    "collapsed": false,
    "ExecuteTime": {
     "start_time": "2023-04-03T12:41:25.870657Z",
     "end_time": "2023-04-03T12:41:26.047862Z"
    }
   }
  },
  {
   "cell_type": "code",
   "execution_count": 49,
   "outputs": [
    {
     "data": {
      "text/plain": "(array([0., 0., 0., 0., 0., 0., 0., 0., 0., 0.]),\n array([0. , 0.1, 0.2, 0.3, 0.4, 0.5, 0.6, 0.7, 0.8, 0.9, 1. ]),\n <BarContainer object of 10 artists>)"
     },
     "execution_count": 49,
     "metadata": {},
     "output_type": "execute_result"
    },
    {
     "data": {
      "text/plain": "<Figure size 640x480 with 1 Axes>",
      "image/png": "[encoded data removed]"
     },
     "metadata": {},
     "output_type": "display_data"
    }
   ],
   "source": [
    "plt.hist(data_smisleno[data_smisleno<=0.5], bins=10)"
   ],
   "metadata": {
    "collapsed": false,
    "ExecuteTime": {
     "start_time": "2023-04-03T12:41:26.908151Z",
     "end_time": "2023-04-03T12:41:27.045231Z"
    }
   }
  },
  {
   "cell_type": "code",
   "execution_count": 70,
   "outputs": [
    {
     "data": {
      "text/plain": "<matplotlib.collections.PathCollection at 0x7f3390b66740>"
     },
     "execution_count": 70,
     "metadata": {},
     "output_type": "execute_result"
    },
    {
     "data": {
      "text/plain": "<Figure size 640x480 with 1 Axes>",
      "image/png": "[encoded data removed]"
     },
     "metadata": {},
     "output_type": "display_data"
    }
   ],
   "source": [
    "#plt.hist(data_smisleno, bins=50)\n",
    "counts, bins=np.histogram(data_smisleno, bins=50)\n",
    "bins = bins[:-1]+ (bins[1]-bins[0])/2\n",
    "plt.scatter(bins, counts)"
   ],
   "metadata": {
    "collapsed": false,
    "ExecuteTime": {
     "start_time": "2023-04-03T13:16:40.362747Z",
     "end_time": "2023-04-03T13:16:40.530476Z"
    }
   }
  },
  {
   "cell_type": "code",
   "execution_count": 119,
   "outputs": [],
   "source": [
    "def log_likelihood(x):\n",
    "    def function(parm):\n",
    "        w = parm[0]\n",
    "        tau = parm[1]\n",
    "        t1=0.5\n",
    "        t2=10\n",
    "        y = w * 1/tau * 1/(np.exp(-t1/tau)-np.exp(-t2/tau)) * np.exp(-x/tau) + (1-w) * 1/(t2-t1)\n",
    "        return -np.sum(np.log(y))\n",
    "    return function\n"
   ],
   "metadata": {
    "collapsed": false,
    "ExecuteTime": {
     "start_time": "2023-04-03T14:16:12.611251Z",
     "end_time": "2023-04-03T14:16:12.617263Z"
    }
   }
  },
  {
   "cell_type": "code",
   "execution_count": 122,
   "outputs": [
    {
     "data": {
      "text/plain": "4728.557320106491"
     },
     "execution_count": 122,
     "metadata": {},
     "output_type": "execute_result"
    }
   ],
   "source": [
    "log_likelihood(data_smisleno)([0.61, 2.041])"
   ],
   "metadata": {
    "collapsed": false,
    "ExecuteTime": {
     "start_time": "2023-04-03T14:16:56.227373Z",
     "end_time": "2023-04-03T14:16:56.268450Z"
    }
   }
  },
  {
   "cell_type": "code",
   "execution_count": 121,
   "outputs": [],
   "source": [
    "def function1(x, w, tau):\n",
    "    t1=0.5\n",
    "    t2=10\n",
    "    y = w * 1/tau * 1/(np.exp(-t1/tau)-np.exp(-t2/tau)) * np.exp(-x/tau) + (1-w) * 1/(t2-t1)\n",
    "    #likelihood = np.sum( stats.norm.logpdf(ydata, loc=yPred, scale=sd ) )\n",
    "    return y"
   ],
   "metadata": {
    "collapsed": false,
    "ExecuteTime": {
     "start_time": "2023-04-03T14:16:31.383019Z",
     "end_time": "2023-04-03T14:16:31.392231Z"
    }
   }
  },
  {
   "cell_type": "code",
   "execution_count": 144,
   "outputs": [
    {
     "name": "stdout",
     "output_type": "stream",
     "text": [
      "[0.615553   2.04088047]\n"
     ]
    },
    {
     "data": {
      "text/plain": "<function matplotlib.pyplot.show(close=None, block=None)>"
     },
     "execution_count": 144,
     "metadata": {},
     "output_type": "execute_result"
    },
    {
     "data": {
      "text/plain": "<Figure size 640x480 with 1 Axes>",
      "image/png": "[encoded data removed]"
     },
     "metadata": {},
     "output_type": "display_data"
    }
   ],
   "source": [
    "import scipy\n",
    "popt = scipy.optimize.minimize(log_likelihood(data_smisleno), [0.2,2.2], bounds=[(0,1), (1, 3)])\n",
    "print (popt.x)\n",
    "counts, bins = np.histogram(data_smisleno, bins=20)\n",
    "counts= counts / data_smisleno.size\n",
    "data_smisleno.sort()\n",
    "plt.plot(data_smisleno, function1(data_smisleno, popt.x[0], popt.x[1]), color=\"r\")\n",
    "plt.bar(bins[:-1], counts)\n",
    "plt.show"
   ],
   "metadata": {
    "collapsed": false,
    "ExecuteTime": {
     "start_time": "2023-04-03T14:25:50.212308Z",
     "end_time": "2023-04-03T14:25:50.412633Z"
    }
   }
  },
  {
   "cell_type": "code",
   "execution_count": 129,
   "outputs": [],
   "source": [
    "data_smisleno.sort()"
   ],
   "metadata": {
    "collapsed": false,
    "ExecuteTime": {
     "start_time": "2023-04-03T14:19:12.771298Z",
     "end_time": "2023-04-03T14:19:12.779319Z"
    }
   }
  },
  {
   "cell_type": "code",
   "execution_count": 63,
   "outputs": [
    {
     "data": {
      "text/plain": "<function matplotlib.pyplot.show(close=None, block=None)>"
     },
     "execution_count": 63,
     "metadata": {},
     "output_type": "execute_result"
    },
    {
     "data": {
      "text/plain": "<Figure size 640x480 with 1 Axes>",
      "image/png": "[encoded data removed]"
     },
     "metadata": {},
     "output_type": "display_data"
    }
   ],
   "source": [
    "plt.bar(bins, counts)\n",
    "plt.plot(bins, function(bins, 0.999, 0.5), color=\"r\")\n",
    "plt.show"
   ],
   "metadata": {
    "collapsed": false,
    "ExecuteTime": {
     "start_time": "2023-04-03T12:51:26.938623Z",
     "end_time": "2023-04-03T12:51:27.105834Z"
    }
   }
  },
  {
   "cell_type": "code",
   "execution_count": 42,
   "outputs": [
    {
     "name": "stdout",
     "output_type": "stream",
     "text": [
      "3.5\n"
     ]
    }
   ],
   "source": [
    "print (a.mean())"
   ],
   "metadata": {
    "collapsed": false,
    "ExecuteTime": {
     "start_time": "2023-04-03T11:51:04.745504Z",
     "end_time": "2023-04-03T11:51:04.768629Z"
    }
   }
  },
  {
   "cell_type": "code",
   "execution_count": null,
   "outputs": [],
   "source": [],
   "metadata": {
    "collapsed": false
   }
  }
 ],
 "metadata": {
  "kernelspec": {
   "display_name": "Python 3",
   "language": "python",
   "name": "python3"
  },
  "language_info": {
   "codemirror_mode": {
    "name": "ipython",
    "version": 2
   },
   "file_extension": ".py",
   "mimetype": "text/x-python",
   "name": "python",
   "nbconvert_exporter": "python",
   "pygments_lexer": "ipython2",
   "version": "2.7.6"
  }
 },
 "nbformat": 4,
 "nbformat_minor": 0
}
