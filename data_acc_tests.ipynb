{
 "cells": [
  {
   "cell_type": "code",
   "execution_count": 34,
   "outputs": [
    {
     "name": "stdout",
     "output_type": "stream",
     "text": [
      "The autoreload extension is already loaded. To reload it, use:\n",
      "  %reload_ext autoreload\n"
     ]
    }
   ],
   "source": [
    "import tools\n",
    "import numpy as np\n",
    "import matplotlib.pyplot as plt\n",
    "%load_ext autoreload\n",
    "%autoreload 2"
   ],
   "metadata": {
    "collapsed": false
   }
  },
  {
   "cell_type": "code",
   "execution_count": 2,
   "outputs": [],
   "source": [
    "ser = tools.interface.open_serial_port()"
   ],
   "metadata": {
    "collapsed": false
   }
  },
  {
   "cell_type": "code",
   "execution_count": null,
   "outputs": [],
   "source": [
    "counts = np.zeros(10)\n",
    "bins = np.linspace(0, 20000, 11)\n",
    "for i in range(1000):\n",
    "    data = tools.interface.read_serial_port(ser) * 0.001\n",
    "    hist, bins = np.histogram(data, bins=bins)\n",
    "    counts = counts + hist\n",
    "    if i % 50 == 0:\n",
    "        plt.bar(bins[:-1], counts, width=1000)\n",
    "        plt.show()"
   ],
   "metadata": {
    "collapsed": false,
    "pycharm": {
     "is_executing": true
    }
   }
  },
  {
   "cell_type": "code",
   "execution_count": 7,
   "outputs": [
    {
     "ename": "KeyboardInterrupt",
     "evalue": "",
     "output_type": "error",
     "traceback": [
      "\u001B[0;31m---------------------------------------------------------------------------\u001B[0m",
      "\u001B[0;31mKeyboardInterrupt\u001B[0m                         Traceback (most recent call last)",
      "Cell \u001B[0;32mIn[7], line 2\u001B[0m\n\u001B[1;32m      1\u001B[0m ser \u001B[38;5;241m=\u001B[39m tools\u001B[38;5;241m.\u001B[39minterface\u001B[38;5;241m.\u001B[39mopen_serial_port()\n\u001B[0;32m----> 2\u001B[0m \u001B[43mtools\u001B[49m\u001B[38;5;241;43m.\u001B[39;49m\u001B[43minterface\u001B[49m\u001B[38;5;241;43m.\u001B[39;49m\u001B[43mwrite_port_data_to_csv\u001B[49m\u001B[43m(\u001B[49m\u001B[43mser\u001B[49m\u001B[43m,\u001B[49m\u001B[43m \u001B[49m\u001B[38;5;124;43m'\u001B[39;49m\u001B[38;5;124;43mtest.csv\u001B[39;49m\u001B[38;5;124;43m'\u001B[39;49m\u001B[43m)\u001B[49m\n",
      "File \u001B[0;32m/mnt/storage/Projects/Mulan/tools/interface.py:54\u001B[0m, in \u001B[0;36mwrite_port_data_to_csv\u001B[0;34m(ser, filename)\u001B[0m\n\u001B[1;32m     52\u001B[0m     \u001B[38;5;28;01mpass\u001B[39;00m\n\u001B[1;32m     53\u001B[0m \u001B[38;5;28;01mwhile\u001B[39;00m \u001B[38;5;28;01mTrue\u001B[39;00m:\n\u001B[0;32m---> 54\u001B[0m     data \u001B[38;5;241m=\u001B[39m \u001B[43mread_serial_port\u001B[49m\u001B[43m(\u001B[49m\u001B[43mser\u001B[49m\u001B[43m)\u001B[49m\n\u001B[1;32m     55\u001B[0m     \u001B[38;5;28;01mwith\u001B[39;00m \u001B[38;5;28mopen\u001B[39m(filename, \u001B[38;5;124m'\u001B[39m\u001B[38;5;124ma\u001B[39m\u001B[38;5;124m'\u001B[39m) \u001B[38;5;28;01mas\u001B[39;00m f:\n\u001B[1;32m     56\u001B[0m         \u001B[38;5;28;01mfor\u001B[39;00m i \u001B[38;5;129;01min\u001B[39;00m data:\n",
      "File \u001B[0;32m/mnt/storage/Projects/Mulan/tools/interface.py:35\u001B[0m, in \u001B[0;36mread_serial_port\u001B[0;34m(ser)\u001B[0m\n\u001B[1;32m     33\u001B[0m read \u001B[38;5;241m=\u001B[39m \u001B[38;5;28;01mFalse\u001B[39;00m\n\u001B[1;32m     34\u001B[0m \u001B[38;5;28;01mwhile\u001B[39;00m \u001B[38;5;129;01mnot\u001B[39;00m read:\n\u001B[0;32m---> 35\u001B[0m     signal \u001B[38;5;241m=\u001B[39m \u001B[43mser\u001B[49m\u001B[38;5;241;43m.\u001B[39;49m\u001B[43mread\u001B[49m\u001B[43m(\u001B[49m\u001B[38;5;241;43m100\u001B[39;49m\u001B[43m)\u001B[49m\n\u001B[1;32m     36\u001B[0m     signal \u001B[38;5;241m+\u001B[39m\u001B[38;5;241m=\u001B[39m ser\u001B[38;5;241m.\u001B[39mread(ser\u001B[38;5;241m.\u001B[39minWaiting())\n\u001B[1;32m     37\u001B[0m     timestamps \u001B[38;5;241m=\u001B[39m np\u001B[38;5;241m.\u001B[39marray(signal\u001B[38;5;241m.\u001B[39mdecode(\u001B[38;5;124m\"\u001B[39m\u001B[38;5;124mascii\u001B[39m\u001B[38;5;124m\"\u001B[39m)\u001B[38;5;241m.\u001B[39msplit(\u001B[38;5;124m\"\u001B[39m\u001B[38;5;130;01m\\r\u001B[39;00m\u001B[38;5;124m\"\u001B[39m)[:\u001B[38;5;241m-\u001B[39m\u001B[38;5;241m1\u001B[39m])\n",
      "File \u001B[0;32m~/miniconda3/envs/Mulan/lib/python3.10/site-packages/serial/serialposix.py:565\u001B[0m, in \u001B[0;36mSerial.read\u001B[0;34m(self, size)\u001B[0m\n\u001B[1;32m    563\u001B[0m \u001B[38;5;28;01mwhile\u001B[39;00m \u001B[38;5;28mlen\u001B[39m(read) \u001B[38;5;241m<\u001B[39m size:\n\u001B[1;32m    564\u001B[0m     \u001B[38;5;28;01mtry\u001B[39;00m:\n\u001B[0;32m--> 565\u001B[0m         ready, _, _ \u001B[38;5;241m=\u001B[39m \u001B[43mselect\u001B[49m\u001B[38;5;241;43m.\u001B[39;49m\u001B[43mselect\u001B[49m\u001B[43m(\u001B[49m\u001B[43m[\u001B[49m\u001B[38;5;28;43mself\u001B[39;49m\u001B[38;5;241;43m.\u001B[39;49m\u001B[43mfd\u001B[49m\u001B[43m,\u001B[49m\u001B[43m \u001B[49m\u001B[38;5;28;43mself\u001B[39;49m\u001B[38;5;241;43m.\u001B[39;49m\u001B[43mpipe_abort_read_r\u001B[49m\u001B[43m]\u001B[49m\u001B[43m,\u001B[49m\u001B[43m \u001B[49m\u001B[43m[\u001B[49m\u001B[43m]\u001B[49m\u001B[43m,\u001B[49m\u001B[43m \u001B[49m\u001B[43m[\u001B[49m\u001B[43m]\u001B[49m\u001B[43m,\u001B[49m\u001B[43m \u001B[49m\u001B[43mtimeout\u001B[49m\u001B[38;5;241;43m.\u001B[39;49m\u001B[43mtime_left\u001B[49m\u001B[43m(\u001B[49m\u001B[43m)\u001B[49m\u001B[43m)\u001B[49m\n\u001B[1;32m    566\u001B[0m         \u001B[38;5;28;01mif\u001B[39;00m \u001B[38;5;28mself\u001B[39m\u001B[38;5;241m.\u001B[39mpipe_abort_read_r \u001B[38;5;129;01min\u001B[39;00m ready:\n\u001B[1;32m    567\u001B[0m             os\u001B[38;5;241m.\u001B[39mread(\u001B[38;5;28mself\u001B[39m\u001B[38;5;241m.\u001B[39mpipe_abort_read_r, \u001B[38;5;241m1000\u001B[39m)\n",
      "\u001B[0;31mKeyboardInterrupt\u001B[0m: "
     ]
    }
   ],
   "source": [
    "ser = tools.interface.open_serial_port()\n",
    "tools.interface.write_port_data_to_csv(ser, 'test.csv')"
   ],
   "metadata": {
    "collapsed": false
   }
  },
  {
   "cell_type": "code",
   "execution_count": 115,
   "outputs": [
    {
     "name": "stdout",
     "output_type": "stream",
     "text": [
      "0\n",
      "0\n",
      "0\n",
      "0\n",
      "0\n",
      "0\n",
      "0\n",
      "0\n",
      "0\n",
      "0\n",
      "0\n",
      "0\n",
      "0\n",
      "0\n",
      "0\n",
      "0\n",
      "0\n",
      "0\n",
      "0\n",
      "0\n",
      "0\n",
      "0\n",
      "0\n",
      "0\n",
      "0\n",
      "0\n",
      "0\n",
      "0\n",
      "0\n",
      "0\n",
      "0\n",
      "0\n",
      "0\n",
      "0\n",
      "0\n",
      "0\n",
      "0\n",
      "0\n",
      "0\n",
      "0\n",
      "0\n",
      "0\n",
      "0\n",
      "0\n",
      "0\n",
      "0\n",
      "0\n",
      "1.875\n",
      "1.875\n",
      "1.875\n",
      "1.875\n",
      "1.875\n",
      "1.875\n",
      "1.875\n",
      "1.875\n",
      "1.875\n",
      "1.875\n",
      "1.875\n",
      "1.875\n",
      "1.875\n",
      "1.875\n",
      "1.875\n",
      "1.875\n",
      "1.875\n",
      "1.875\n",
      "1.875\n",
      "1.875\n",
      "1.875\n",
      "1.875\n",
      "1.875\n",
      "1.875\n",
      "1.875\n",
      "1.875\n",
      "1.875\n",
      "1.875\n",
      "1.875\n",
      "1.875\n",
      "1.875\n",
      "1.875\n",
      "1.875\n",
      "1.875\n",
      "1.875\n",
      "1.875\n",
      "1.875\n",
      "1.875\n",
      "1.875\n",
      "1.875\n",
      "1.875\n",
      "1.875\n",
      "1.875\n",
      "1.875\n",
      "1.875\n",
      "1.875\n",
      "1.875\n",
      "1.875\n",
      "1.875\n",
      "1.875\n",
      "1.875\n",
      "1.875\n",
      "1.875\n",
      "1.875\n",
      "1.875\n",
      "1.875\n",
      "1.875\n",
      "1.875\n",
      "1.875\n",
      "1.875\n",
      "1.875\n",
      "1.875\n",
      "1.875\n",
      "1.875\n",
      "1.875\n",
      "1.875\n",
      "1.875\n",
      "1.875\n",
      "1.875\n",
      "1.875\n",
      "1.875\n",
      "1.875\n",
      "1.875\n",
      "1.875\n",
      "1.875\n",
      "1.875\n",
      "1.875\n",
      "1.875\n",
      "1.875\n",
      "1.875\n",
      "1.875\n",
      "1.875\n",
      "1.875\n",
      "1.875\n",
      "1.875\n",
      "1.875\n",
      "1.875\n",
      "1.875\n",
      "1.875\n",
      "1.875\n",
      "1.875\n",
      "1.875\n",
      "1.875\n",
      "1.875\n",
      "1.875\n",
      "1.875\n",
      "1.875\n",
      "1.875\n",
      "1.875\n",
      "1.875\n",
      "1.875\n",
      "1.875\n",
      "1.875\n",
      "1.875\n",
      "1.875\n",
      "1.875\n",
      "1.875\n",
      "1.875\n",
      "1.875\n",
      "1.875\n",
      "1.875\n",
      "1.875\n",
      "1.875\n",
      "1.875\n",
      "4.954166666666667\n",
      "4.954166666666667\n",
      "4.954166666666667\n",
      "4.954166666666667\n",
      "4.954166666666667\n",
      "4.954166666666667\n",
      "4.954166666666667\n",
      "4.954166666666667\n",
      "4.954166666666667\n",
      "4.954166666666667\n",
      "4.954166666666667\n",
      "4.954166666666667\n",
      "4.954166666666667\n",
      "4.954166666666667\n",
      "4.954166666666667\n",
      "4.954166666666667\n",
      "4.954166666666667\n",
      "4.954166666666667\n",
      "4.954166666666667\n",
      "4.954166666666667\n",
      "4.954166666666667\n",
      "4.954166666666667\n",
      "4.954166666666667\n",
      "4.954166666666667\n",
      "4.954166666666667\n",
      "4.954166666666667\n"
     ]
    },
    {
     "name": "stderr",
     "output_type": "stream",
     "text": [
      "Process Read serial:\n",
      "Process Read serial:\n",
      "Traceback (most recent call last):\n",
      "Traceback (most recent call last):\n",
      "  File \"/home/karlo/miniconda3/envs/Mulan/lib/python3.10/multiprocessing/process.py\", line 314, in _bootstrap\n",
      "    self.run()\n",
      "  File \"/home/karlo/miniconda3/envs/Mulan/lib/python3.10/multiprocessing/process.py\", line 108, in run\n",
      "    self._target(*self._args, **self._kwargs)\n",
      "  File \"/home/karlo/miniconda3/envs/Mulan/lib/python3.10/multiprocessing/process.py\", line 314, in _bootstrap\n",
      "    self.run()\n",
      "  File \"/tmp/ipykernel_4056/855872326.py\", line 13, in g\n",
      "    time.sleep(1)\n",
      "  File \"/home/karlo/miniconda3/envs/Mulan/lib/python3.10/multiprocessing/process.py\", line 108, in run\n",
      "    self._target(*self._args, **self._kwargs)\n",
      "  File \"/tmp/ipykernel_4056/855872326.py\", line 8, in count\n",
      "    data = tools.interface.read_serial_port(ser)\n",
      "KeyboardInterrupt\n",
      "  File \"/mnt/storage/Projects/Mulan/tools/interface.py\", line 34, in read_serial_port\n",
      "    signal = ser.read(1)\n",
      "  File \"/home/karlo/miniconda3/envs/Mulan/lib/python3.10/site-packages/serial/serialposix.py\", line 565, in read\n",
      "    ready, _, _ = select.select([self.fd, self.pipe_abort_read_r], [], [], timeout.time_left())\n",
      "KeyboardInterrupt\n"
     ]
    },
    {
     "ename": "KeyboardInterrupt",
     "evalue": "",
     "output_type": "error",
     "traceback": [
      "\u001B[0;31m---------------------------------------------------------------------------\u001B[0m",
      "\u001B[0;31mKeyboardInterrupt\u001B[0m                         Traceback (most recent call last)",
      "Cell \u001B[0;32mIn[115], line 27\u001B[0m\n\u001B[1;32m     25\u001B[0m p1\u001B[38;5;241m.\u001B[39mstart()\n\u001B[1;32m     26\u001B[0m p2\u001B[38;5;241m.\u001B[39mstart()\n\u001B[0;32m---> 27\u001B[0m \u001B[43mp1\u001B[49m\u001B[38;5;241;43m.\u001B[39;49m\u001B[43mjoin\u001B[49m\u001B[43m(\u001B[49m\u001B[43m)\u001B[49m\n\u001B[1;32m     28\u001B[0m p2\u001B[38;5;241m.\u001B[39mjoin()\n",
      "File \u001B[0;32m~/miniconda3/envs/Mulan/lib/python3.10/multiprocessing/process.py:149\u001B[0m, in \u001B[0;36mBaseProcess.join\u001B[0;34m(self, timeout)\u001B[0m\n\u001B[1;32m    147\u001B[0m \u001B[38;5;28;01massert\u001B[39;00m \u001B[38;5;28mself\u001B[39m\u001B[38;5;241m.\u001B[39m_parent_pid \u001B[38;5;241m==\u001B[39m os\u001B[38;5;241m.\u001B[39mgetpid(), \u001B[38;5;124m'\u001B[39m\u001B[38;5;124mcan only join a child process\u001B[39m\u001B[38;5;124m'\u001B[39m\n\u001B[1;32m    148\u001B[0m \u001B[38;5;28;01massert\u001B[39;00m \u001B[38;5;28mself\u001B[39m\u001B[38;5;241m.\u001B[39m_popen \u001B[38;5;129;01mis\u001B[39;00m \u001B[38;5;129;01mnot\u001B[39;00m \u001B[38;5;28;01mNone\u001B[39;00m, \u001B[38;5;124m'\u001B[39m\u001B[38;5;124mcan only join a started process\u001B[39m\u001B[38;5;124m'\u001B[39m\n\u001B[0;32m--> 149\u001B[0m res \u001B[38;5;241m=\u001B[39m \u001B[38;5;28;43mself\u001B[39;49m\u001B[38;5;241;43m.\u001B[39;49m\u001B[43m_popen\u001B[49m\u001B[38;5;241;43m.\u001B[39;49m\u001B[43mwait\u001B[49m\u001B[43m(\u001B[49m\u001B[43mtimeout\u001B[49m\u001B[43m)\u001B[49m\n\u001B[1;32m    150\u001B[0m \u001B[38;5;28;01mif\u001B[39;00m res \u001B[38;5;129;01mis\u001B[39;00m \u001B[38;5;129;01mnot\u001B[39;00m \u001B[38;5;28;01mNone\u001B[39;00m:\n\u001B[1;32m    151\u001B[0m     _children\u001B[38;5;241m.\u001B[39mdiscard(\u001B[38;5;28mself\u001B[39m)\n",
      "File \u001B[0;32m~/miniconda3/envs/Mulan/lib/python3.10/multiprocessing/popen_fork.py:43\u001B[0m, in \u001B[0;36mPopen.wait\u001B[0;34m(self, timeout)\u001B[0m\n\u001B[1;32m     41\u001B[0m             \u001B[38;5;28;01mreturn\u001B[39;00m \u001B[38;5;28;01mNone\u001B[39;00m\n\u001B[1;32m     42\u001B[0m     \u001B[38;5;66;03m# This shouldn't block if wait() returned successfully.\u001B[39;00m\n\u001B[0;32m---> 43\u001B[0m     \u001B[38;5;28;01mreturn\u001B[39;00m \u001B[38;5;28;43mself\u001B[39;49m\u001B[38;5;241;43m.\u001B[39;49m\u001B[43mpoll\u001B[49m\u001B[43m(\u001B[49m\u001B[43mos\u001B[49m\u001B[38;5;241;43m.\u001B[39;49m\u001B[43mWNOHANG\u001B[49m\u001B[43m \u001B[49m\u001B[38;5;28;43;01mif\u001B[39;49;00m\u001B[43m \u001B[49m\u001B[43mtimeout\u001B[49m\u001B[43m \u001B[49m\u001B[38;5;241;43m==\u001B[39;49m\u001B[43m \u001B[49m\u001B[38;5;241;43m0.0\u001B[39;49m\u001B[43m \u001B[49m\u001B[38;5;28;43;01melse\u001B[39;49;00m\u001B[43m \u001B[49m\u001B[38;5;241;43m0\u001B[39;49m\u001B[43m)\u001B[49m\n\u001B[1;32m     44\u001B[0m \u001B[38;5;28;01mreturn\u001B[39;00m \u001B[38;5;28mself\u001B[39m\u001B[38;5;241m.\u001B[39mreturncode\n",
      "File \u001B[0;32m~/miniconda3/envs/Mulan/lib/python3.10/multiprocessing/popen_fork.py:27\u001B[0m, in \u001B[0;36mPopen.poll\u001B[0;34m(self, flag)\u001B[0m\n\u001B[1;32m     25\u001B[0m \u001B[38;5;28;01mif\u001B[39;00m \u001B[38;5;28mself\u001B[39m\u001B[38;5;241m.\u001B[39mreturncode \u001B[38;5;129;01mis\u001B[39;00m \u001B[38;5;28;01mNone\u001B[39;00m:\n\u001B[1;32m     26\u001B[0m     \u001B[38;5;28;01mtry\u001B[39;00m:\n\u001B[0;32m---> 27\u001B[0m         pid, sts \u001B[38;5;241m=\u001B[39m \u001B[43mos\u001B[49m\u001B[38;5;241;43m.\u001B[39;49m\u001B[43mwaitpid\u001B[49m\u001B[43m(\u001B[49m\u001B[38;5;28;43mself\u001B[39;49m\u001B[38;5;241;43m.\u001B[39;49m\u001B[43mpid\u001B[49m\u001B[43m,\u001B[49m\u001B[43m \u001B[49m\u001B[43mflag\u001B[49m\u001B[43m)\u001B[49m\n\u001B[1;32m     28\u001B[0m     \u001B[38;5;28;01mexcept\u001B[39;00m \u001B[38;5;167;01mOSError\u001B[39;00m:\n\u001B[1;32m     29\u001B[0m         \u001B[38;5;66;03m# Child process not yet created. See #1731717\u001B[39;00m\n\u001B[1;32m     30\u001B[0m         \u001B[38;5;66;03m# e.errno == errno.ECHILD == 10\u001B[39;00m\n\u001B[1;32m     31\u001B[0m         \u001B[38;5;28;01mreturn\u001B[39;00m \u001B[38;5;28;01mNone\u001B[39;00m\n",
      "\u001B[0;31mKeyboardInterrupt\u001B[0m: "
     ]
    }
   ],
   "source": [
    "import multiprocessing\n",
    "import time\n",
    "\n",
    "def count(ser, shared_list):\n",
    "    signal = ser.read(1)\n",
    "    signal += ser.read(ser.inWaiting())\n",
    "    while True:\n",
    "        data = tools.interface.read_serial_port(ser)\n",
    "        shared_list += data[data<=10].tolist()\n",
    "\n",
    "def g(shared_list):\n",
    "    while True:\n",
    "        time.sleep(1)\n",
    "        if len(shared_list) > 0:\n",
    "            mean = np.array(shared_list).mean()\n",
    "        else:\n",
    "            mean = 0\n",
    "        print(mean)\n",
    "\n",
    "manager = multiprocessing.Manager()\n",
    "shared_list = manager.list()\n",
    "serial = tools.interface.open_serial_port()\n",
    "p1 = multiprocessing.Process(name=\"Read serial\", target=count, args=[serial, shared_list])\n",
    "p2 = multiprocessing.Process(name=\"Read serial\", target=g, args=[shared_list])\n",
    "p1.start()\n",
    "p2.start()\n",
    "p1.join()\n",
    "p2.join()"
   ],
   "metadata": {
    "collapsed": false
   }
  },
  {
   "cell_type": "code",
   "execution_count": 97,
   "outputs": [],
   "source": [
    "data = tools.interface.read_serial_port(ser)"
   ],
   "metadata": {
    "collapsed": false
   }
  },
  {
   "cell_type": "code",
   "execution_count": 98,
   "outputs": [
    {
     "data": {
      "text/plain": "array([12383.75  , 11772.0625, 89058.075 , 28725.4125, 17833.225 ,\n       13074.5875, 35037.95  ,  3862.8875])"
     },
     "execution_count": 98,
     "metadata": {},
     "output_type": "execute_result"
    }
   ],
   "source": [
    "data"
   ],
   "metadata": {
    "collapsed": false
   }
  },
  {
   "cell_type": "code",
   "execution_count": 105,
   "outputs": [
    {
     "data": {
      "text/plain": "array([12383.75  , 11772.0625, 17833.225 , 13074.5875])"
     },
     "execution_count": 105,
     "metadata": {},
     "output_type": "execute_result"
    }
   ],
   "source": [
    "data[np.logical_and(data>10000, data<20000)]"
   ],
   "metadata": {
    "collapsed": false
   }
  },
  {
   "cell_type": "code",
   "execution_count": 104,
   "outputs": [
    {
     "data": {
      "text/plain": "array([ True,  True, False, False,  True,  True, False, False])"
     },
     "execution_count": 104,
     "metadata": {},
     "output_type": "execute_result"
    }
   ],
   "source": [
    "np.logical_and(data>10000, data<20000)"
   ],
   "metadata": {
    "collapsed": false
   }
  },
  {
   "cell_type": "code",
   "execution_count": null,
   "outputs": [],
   "source": [],
   "metadata": {
    "collapsed": false
   }
  }
 ],
 "metadata": {
  "kernelspec": {
   "display_name": "Python 3",
   "language": "python",
   "name": "python3"
  },
  "language_info": {
   "codemirror_mode": {
    "name": "ipython",
    "version": 2
   },
   "file_extension": ".py",
   "mimetype": "text/x-python",
   "name": "python",
   "nbconvert_exporter": "python",
   "pygments_lexer": "ipython2",
   "version": "2.7.6"
  }
 },
 "nbformat": 4,
 "nbformat_minor": 0
}
